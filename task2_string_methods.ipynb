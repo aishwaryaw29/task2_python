{
 "cells": [
  {
   "cell_type": "markdown",
   "id": "b9c4480a-b34b-4779-a0a5-342b19860661",
   "metadata": {},
   "source": [
    "### STRING METHODS"
   ]
  },
  {
   "cell_type": "markdown",
   "id": "11b8cefa-c9b1-446e-842d-240166f08420",
   "metadata": {},
   "source": [
    "#### 1) capitalize()"
   ]
  },
  {
   "cell_type": "code",
   "execution_count": 16,
   "id": "edfa964b-e187-49e6-8f72-39445a1b538e",
   "metadata": {},
   "outputs": [
    {
     "name": "stdout",
     "output_type": "stream",
     "text": [
      "My name is aishwarya\n"
     ]
    }
   ],
   "source": [
    "str1 = \"my name is Aishwarya\"\n",
    "capitalize_str = str1.capitalize()\n",
    "print(capitalize_str)"
   ]
  },
  {
   "cell_type": "code",
   "execution_count": 427,
   "id": "96fd74fb-7a09-44c8-b5a8-ec88ccc399f8",
   "metadata": {},
   "outputs": [
    {
     "name": "stdout",
     "output_type": "stream",
     "text": [
      "Python programming\n"
     ]
    }
   ],
   "source": [
    "str2 = \"pyTHON programming\"\n",
    "capitalize_str2 = str2.capitalize()\n",
    "print(capitalize_str2)"
   ]
  },
  {
   "cell_type": "markdown",
   "id": "2da18067-e4ce-4356-854a-05d946ed4b2f",
   "metadata": {},
   "source": [
    "#### 2) casefold()"
   ]
  },
  {
   "cell_type": "code",
   "execution_count": 26,
   "id": "3c048ae1-6f4b-4861-9cfc-2c4a3c179609",
   "metadata": {},
   "outputs": [
    {
     "name": "stdout",
     "output_type": "stream",
     "text": [
      "hello world\n"
     ]
    }
   ],
   "source": [
    "str1 = \"HELLO WORLD\"\n",
    "casefold_str = str1.casefold()\n",
    "print(casefold_str)"
   ]
  },
  {
   "cell_type": "code",
   "execution_count": 30,
   "id": "5b4a0aa1-bd1e-4047-ac40-a8dfed528d99",
   "metadata": {},
   "outputs": [
    {
     "name": "stdout",
     "output_type": "stream",
     "text": [
      "python is fun\n"
     ]
    }
   ],
   "source": [
    "str2 = \"Python is Fun\"\n",
    "casefold_str2 = str2.casefold()\n",
    "print(casefold_str2)"
   ]
  },
  {
   "cell_type": "markdown",
   "id": "01698371-0aa6-480c-a336-c14552d57606",
   "metadata": {},
   "source": [
    "#### 3) center()"
   ]
  },
  {
   "cell_type": "code",
   "execution_count": 39,
   "id": "b56abf2a-b4f1-486c-9396-30fa270c3922",
   "metadata": {},
   "outputs": [
    {
     "name": "stdout",
     "output_type": "stream",
     "text": [
      "'      Jupyter       '\n"
     ]
    }
   ],
   "source": [
    "str1 = \"Jupyter\"\n",
    "centered_str1 = str1.center(20)  \n",
    "print(f\"'{centered_str1}'\")"
   ]
  },
  {
   "cell_type": "code",
   "execution_count": 43,
   "id": "6535a651-cffa-4aa6-9ec9-29d06260af62",
   "metadata": {},
   "outputs": [
    {
     "name": "stdout",
     "output_type": "stream",
     "text": [
      "'*********************Notebook*********************'\n"
     ]
    }
   ],
   "source": [
    "str2 = \"Notebook\"\n",
    "centered_str2 = str2.center(50, '*')\n",
    "print(f\"'{centered_str2}'\")"
   ]
  },
  {
   "cell_type": "markdown",
   "id": "1e8484b3-6b6e-49b1-bd4d-7ae420d0f6b4",
   "metadata": {},
   "source": [
    "#### 4) count()"
   ]
  },
  {
   "cell_type": "code",
   "execution_count": 52,
   "id": "91116878-1494-44eb-beb1-08244bed74cb",
   "metadata": {},
   "outputs": [
    {
     "data": {
      "text/plain": [
       "3"
      ]
     },
     "execution_count": 52,
     "metadata": {},
     "output_type": "execute_result"
    }
   ],
   "source": [
    "veg = ['carrot', 'brinjal', 'potato', 'carrot', 'potato', 'carrot']\n",
    "carrot_count = veg.count('carrot')\n",
    "carrot_count"
   ]
  },
  {
   "cell_type": "code",
   "execution_count": 56,
   "id": "509c7260-fc48-42b8-872d-9c26a12c8881",
   "metadata": {},
   "outputs": [
    {
     "data": {
      "text/plain": [
       "2"
      ]
     },
     "execution_count": 56,
     "metadata": {},
     "output_type": "execute_result"
    }
   ],
   "source": [
    "str = \"Python can be used on a server to create web applications.\"\n",
    "n_count = str.count('n', 6 , 45)\n",
    "n_count"
   ]
  },
  {
   "cell_type": "markdown",
   "id": "6260f43c-e722-4997-9146-9972cb483650",
   "metadata": {},
   "source": [
    "#### 5) encode()"
   ]
  },
  {
   "cell_type": "code",
   "execution_count": 73,
   "id": "7e473922-2448-494a-b4bf-5df51d65be2c",
   "metadata": {},
   "outputs": [
    {
     "name": "stdout",
     "output_type": "stream",
     "text": [
      "b'Variables are containers for storing data values.'\n"
     ]
    }
   ],
   "source": [
    "str1 = \"Variables are containers for storing data values.\"\n",
    "encoded_str1 = str1.encode()\n",
    "print(encoded_str1)"
   ]
  },
  {
   "cell_type": "code",
   "execution_count": 75,
   "id": "171678d4-da37-4097-a414-f8d2a6470308",
   "metadata": {},
   "outputs": [
    {
     "name": "stdout",
     "output_type": "stream",
     "text": [
      "b'Caf'\n"
     ]
    }
   ],
   "source": [
    "str2 = \"Café\"\n",
    "encoded_str2 = str2.encode('ascii', errors='ignore')\n",
    "print(encoded_str2)"
   ]
  },
  {
   "cell_type": "markdown",
   "id": "d661042c-d002-485b-b259-3fc56c8a208b",
   "metadata": {},
   "source": [
    "#### 6) endswith()"
   ]
  },
  {
   "cell_type": "code",
   "execution_count": 88,
   "id": "de8e16ac-11fd-45f9-80e8-021e3d38f489",
   "metadata": {},
   "outputs": [
    {
     "name": "stdout",
     "output_type": "stream",
     "text": [
      "False\n"
     ]
    }
   ],
   "source": [
    "str1 = \"Test String\"\n",
    "result_str1 = str1.endswith(\"l\")\n",
    "print(result_str1)"
   ]
  },
  {
   "cell_type": "code",
   "execution_count": 92,
   "id": "e1c6ecf8-acb5-40d6-b256-aaafc880e6a9",
   "metadata": {},
   "outputs": [
    {
     "name": "stdout",
     "output_type": "stream",
     "text": [
      "True\n"
     ]
    }
   ],
   "source": [
    "str2 = \"Be positive.\"\n",
    "result_str2 = str2.endswith(\".\")\n",
    "print(result_str2)"
   ]
  },
  {
   "cell_type": "markdown",
   "id": "ec0f527c-e76c-4569-af1a-83b19e0ede75",
   "metadata": {},
   "source": [
    "#### 7) expandtabs()"
   ]
  },
  {
   "cell_type": "code",
   "execution_count": 105,
   "id": "92a974c5-a198-40dd-8f9c-65559fc69a0d",
   "metadata": {},
   "outputs": [
    {
     "name": "stdout",
     "output_type": "stream",
     "text": [
      "j u p y t e r\n"
     ]
    }
   ],
   "source": [
    "str1 = \"j\\tu\\tp\\ty\\tt\\te\\tr\"\n",
    "expandtabs_str1 = str1.expandtabs(1)\n",
    "print(expandtabs_str1)"
   ]
  },
  {
   "cell_type": "code",
   "execution_count": 111,
   "id": "f984b954-0251-409b-ba70-bd984f4253c4",
   "metadata": {},
   "outputs": [
    {
     "name": "stdout",
     "output_type": "stream",
     "text": [
      "n   o   t   e   b   o   o   k\n"
     ]
    }
   ],
   "source": [
    "str2 = \"n\\to\\tt\\te\\tb\\to\\to\\tk\"\n",
    "expandtabs_str2 = str2.expandtabs(4)\n",
    "print(expandtabs_str2)"
   ]
  },
  {
   "cell_type": "markdown",
   "id": "a2edb6ea-189c-4f42-b787-32497328dd95",
   "metadata": {},
   "source": [
    "#### 8) find()"
   ]
  },
  {
   "cell_type": "code",
   "execution_count": 115,
   "id": "7fa5e846-d714-495c-82f4-c831e2c4a869",
   "metadata": {},
   "outputs": [
    {
     "name": "stdout",
     "output_type": "stream",
     "text": [
      "22\n"
     ]
    }
   ],
   "source": [
    "str1 = \"Dictionaries are used to store data values in key:value pairs.\"\n",
    "find_to = str1.find('to')\n",
    "print(find_to)"
   ]
  },
  {
   "cell_type": "code",
   "execution_count": 117,
   "id": "d8517a7d-c47b-4295-8012-3f6e610f7f42",
   "metadata": {},
   "outputs": [
    {
     "name": "stdout",
     "output_type": "stream",
     "text": [
      "14\n"
     ]
    }
   ],
   "source": [
    "str1 = \"Comments can be used to prevent execution when testing code.\"\n",
    "find_e = str1.find('e', 6,20)\n",
    "print(find_e)"
   ]
  },
  {
   "cell_type": "markdown",
   "id": "cdad3d97-9f0d-4b5c-974e-51949f2ab9b1",
   "metadata": {},
   "source": [
    "#### 9) format()"
   ]
  },
  {
   "cell_type": "code",
   "execution_count": 123,
   "id": "a6e66d75-8b58-4ae7-a5df-25cde12a8eb0",
   "metadata": {},
   "outputs": [
    {
     "name": "stdout",
     "output_type": "stream",
     "text": [
      "This sentence is written in Python\n"
     ]
    }
   ],
   "source": [
    "str1 = \"This sentence is written in {}\"\n",
    "formatted_str1 = str1.format(\"Python\")\n",
    "print(formatted_str1)"
   ]
  },
  {
   "cell_type": "code",
   "execution_count": 125,
   "id": "c108178b-0963-497d-b2f9-0c1835481eea",
   "metadata": {},
   "outputs": [
    {
     "name": "stdout",
     "output_type": "stream",
     "text": [
      "makes a sound like a bell\n"
     ]
    }
   ],
   "source": [
    "str2 = \"makes a sound like a {}\"\n",
    "formatted_str2 = str2.format(\"bell\")\n",
    "print(formatted_str2)"
   ]
  },
  {
   "cell_type": "markdown",
   "id": "44bf34fb-cfb4-4499-afd9-e4feeeb3dc5d",
   "metadata": {},
   "source": [
    "#### 10) format_map()"
   ]
  },
  {
   "cell_type": "code",
   "execution_count": 128,
   "id": "3605ebb8-4c34-4d42-b0e8-1ac9270c5af6",
   "metadata": {},
   "outputs": [
    {
     "name": "stdout",
     "output_type": "stream",
     "text": [
      "Harry Potter\n"
     ]
    }
   ],
   "source": [
    "str1 = {'firstname':'Harry','lastname':'Potter'}\n",
    "format_str1 = '{firstname} {lastname}'.format_map(str1)\n",
    "print(format_str1)"
   ]
  },
  {
   "cell_type": "code",
   "execution_count": 132,
   "id": "81a2fd5e-2687-440a-b7bd-c188687bb8aa",
   "metadata": {},
   "outputs": [
    {
     "name": "stdout",
     "output_type": "stream",
     "text": [
      "John's favourite colour is blue.\n"
     ]
    }
   ],
   "source": [
    "str2 = {'x':'John', 'y':'blue'} \n",
    "format_str2 = \"{x}'s favourite colour is {y}.\".format_map(str2)\n",
    "print(format_str2)"
   ]
  },
  {
   "cell_type": "markdown",
   "id": "0bbd9845-8911-4a09-b589-06ff67fec5ea",
   "metadata": {},
   "source": [
    "#### 11) index()"
   ]
  },
  {
   "cell_type": "code",
   "execution_count": 136,
   "id": "fe72f3fe-e388-4388-8709-e442ea9dc8a2",
   "metadata": {},
   "outputs": [
    {
     "name": "stdout",
     "output_type": "stream",
     "text": [
      "18\n"
     ]
    }
   ],
   "source": [
    "str1 = \"Hello! How are you?\"\n",
    "index_str1 = str1.index('?')\n",
    "print(index_str1)"
   ]
  },
  {
   "cell_type": "code",
   "execution_count": 140,
   "id": "c0818d6a-bc4c-491a-a5bc-0b2ef26ae36a",
   "metadata": {},
   "outputs": [
    {
     "name": "stdout",
     "output_type": "stream",
     "text": [
      "9\n"
     ]
    }
   ],
   "source": [
    "str2 = \"Hello! What is your name?\"\n",
    "index_str2 = str2.index('a', 7 , 15)\n",
    "print(index_str2)"
   ]
  },
  {
   "cell_type": "markdown",
   "id": "5f2fc2ca-8b89-4457-a87b-9bb734040bff",
   "metadata": {},
   "source": [
    "#### 12) isalnum()"
   ]
  },
  {
   "cell_type": "code",
   "execution_count": 147,
   "id": "8eb4c091-d581-43a5-995d-3ad3d741bdbb",
   "metadata": {},
   "outputs": [
    {
     "name": "stdout",
     "output_type": "stream",
     "text": [
      "True\n"
     ]
    }
   ],
   "source": [
    "str1 = \"windows10xp\"\n",
    "result = str1.isalnum()\n",
    "print(result)"
   ]
  },
  {
   "cell_type": "code",
   "execution_count": 145,
   "id": "7764dccc-2cd5-4c1e-9a2e-e804262d4ce3",
   "metadata": {},
   "outputs": [
    {
     "name": "stdout",
     "output_type": "stream",
     "text": [
      "False\n"
     ]
    }
   ],
   "source": [
    "str2 = \"abc123@gmail.com\"\n",
    "result = str2.isalnum()\n",
    "print(result)"
   ]
  },
  {
   "cell_type": "markdown",
   "id": "739a2405-4863-453a-bf20-fa066e1e9b87",
   "metadata": {},
   "source": [
    "#### 13) isalpha()"
   ]
  },
  {
   "cell_type": "code",
   "execution_count": 152,
   "id": "a7d7bfa1-e916-4000-b423-17a1a2e35c47",
   "metadata": {},
   "outputs": [
    {
     "name": "stdout",
     "output_type": "stream",
     "text": [
      "False\n"
     ]
    }
   ],
   "source": [
    "str1 = \"Aishwarya23\"\n",
    "result = str1.isalpha()\n",
    "print(result)"
   ]
  },
  {
   "cell_type": "code",
   "execution_count": 156,
   "id": "3bc579d0-8090-4535-a026-5d88bc0080c4",
   "metadata": {},
   "outputs": [
    {
     "name": "stdout",
     "output_type": "stream",
     "text": [
      "True\n"
     ]
    }
   ],
   "source": [
    "str2 = \"Mongodb\"\n",
    "result = str2.isalpha()\n",
    "print(result)"
   ]
  },
  {
   "cell_type": "markdown",
   "id": "ab4bcc77-aecd-4551-bcfd-098c3b51bf0e",
   "metadata": {},
   "source": [
    "#### 14) isascii()"
   ]
  },
  {
   "cell_type": "code",
   "execution_count": 165,
   "id": "bde921ad-6fcd-413e-8f5d-6645c299045f",
   "metadata": {},
   "outputs": [
    {
     "name": "stdout",
     "output_type": "stream",
     "text": [
      "True\n"
     ]
    }
   ],
   "source": [
    "str1 = \"Aishwarya Wanjari\"\n",
    "result = str1.isascii()\n",
    "print(result)"
   ]
  },
  {
   "cell_type": "code",
   "execution_count": 167,
   "id": "3f272b99-3c1c-4dec-9dce-bbe5c90f4f80",
   "metadata": {},
   "outputs": [
    {
     "name": "stdout",
     "output_type": "stream",
     "text": [
      "False\n"
     ]
    }
   ],
   "source": [
    "str2 = \"#123abc\"\n",
    "result = str2.isalpha()\n",
    "print(result)"
   ]
  },
  {
   "cell_type": "markdown",
   "id": "a7f25b10-8aa2-4593-a6df-a8393069b835",
   "metadata": {},
   "source": [
    "#### 15) isdecimal()"
   ]
  },
  {
   "cell_type": "code",
   "execution_count": 170,
   "id": "85b3a7a4-0461-464e-b624-178c9fc05011",
   "metadata": {},
   "outputs": [
    {
     "name": "stdout",
     "output_type": "stream",
     "text": [
      "False\n"
     ]
    }
   ],
   "source": [
    "str1 = \"/u234\"\n",
    "result = str1.isdecimal()\n",
    "print(result)"
   ]
  },
  {
   "cell_type": "code",
   "execution_count": 172,
   "id": "68042f2b-463f-4173-92e7-d377d35350f3",
   "metadata": {},
   "outputs": [
    {
     "name": "stdout",
     "output_type": "stream",
     "text": [
      "True\n"
     ]
    }
   ],
   "source": [
    "str2 = \"55773929\"\n",
    "result = str2.isdecimal()\n",
    "print(result)"
   ]
  },
  {
   "cell_type": "markdown",
   "id": "fa5d3472-8753-4a88-ab4d-061d27b7582d",
   "metadata": {},
   "source": [
    "#### 16) isdigit()"
   ]
  },
  {
   "cell_type": "code",
   "execution_count": 179,
   "id": "d871df36-d8c9-45f4-b4bc-f85a01af2562",
   "metadata": {},
   "outputs": [
    {
     "name": "stdout",
     "output_type": "stream",
     "text": [
      "True\n"
     ]
    }
   ],
   "source": [
    "str1 = \"525678\"\n",
    "result = str1.isdigit()\n",
    "print(result)"
   ]
  },
  {
   "cell_type": "code",
   "execution_count": 177,
   "id": "ce539930-9004-409b-a8f2-a5b87f47489d",
   "metadata": {},
   "outputs": [
    {
     "name": "stdout",
     "output_type": "stream",
     "text": [
      "False\n"
     ]
    }
   ],
   "source": [
    "str2 = \"892*78\"\n",
    "result = str2.isdigit()\n",
    "print(result)"
   ]
  },
  {
   "cell_type": "markdown",
   "id": "47ff0b05-a013-41d5-aafe-426fa33fed4d",
   "metadata": {},
   "source": [
    "#### 17) isidentifier()"
   ]
  },
  {
   "cell_type": "code",
   "execution_count": 186,
   "id": "158abbd0-0329-4f78-a5cc-c68c23467130",
   "metadata": {},
   "outputs": [
    {
     "name": "stdout",
     "output_type": "stream",
     "text": [
      "True\n"
     ]
    }
   ],
   "source": [
    "str1 = \"one_1_to_ten_10\"\n",
    "result = str1.isidentifier()\n",
    "print(result)"
   ]
  },
  {
   "cell_type": "code",
   "execution_count": 190,
   "id": "2df8f1a6-1fcf-4c67-b287-7af25ba77de7",
   "metadata": {},
   "outputs": [
    {
     "name": "stdout",
     "output_type": "stream",
     "text": [
      "False\n"
     ]
    }
   ],
   "source": [
    "str2 = \"9 files\"\n",
    "result = str2.isidentifier()\n",
    "print(result)"
   ]
  },
  {
   "cell_type": "markdown",
   "id": "fbcc3c4e-d4d7-4338-9e78-34101adfee8e",
   "metadata": {},
   "source": [
    "#### 18) islower()"
   ]
  },
  {
   "cell_type": "code",
   "execution_count": 199,
   "id": "5c947249-5b84-4d7e-970b-e7a6d45df46d",
   "metadata": {},
   "outputs": [
    {
     "name": "stdout",
     "output_type": "stream",
     "text": [
      "True\n"
     ]
    }
   ],
   "source": [
    "str1 = \"this is an example!\"\n",
    "result = str1.islower()\n",
    "print(result)"
   ]
  },
  {
   "cell_type": "code",
   "execution_count": 203,
   "id": "8392e5d6-3578-4e1e-896f-e749fa540741",
   "metadata": {},
   "outputs": [
    {
     "name": "stdout",
     "output_type": "stream",
     "text": [
      "False\n"
     ]
    }
   ],
   "source": [
    "str2 = \"jUpYter Notebook \"\n",
    "result = str2.islower()\n",
    "print(result)"
   ]
  },
  {
   "cell_type": "markdown",
   "id": "81654ba5-b00a-4261-b142-331edb36121c",
   "metadata": {},
   "source": [
    "#### 19) isnumeric()"
   ]
  },
  {
   "cell_type": "code",
   "execution_count": 206,
   "id": "5e16b558-e198-4f9a-bf54-55a261e5a16e",
   "metadata": {},
   "outputs": [
    {
     "name": "stdout",
     "output_type": "stream",
     "text": [
      "True\n"
     ]
    }
   ],
   "source": [
    "str1 = \"9876\"\n",
    "result = str1.isnumeric()\n",
    "print(result)"
   ]
  },
  {
   "cell_type": "code",
   "execution_count": 208,
   "id": "7f39da60-33b7-4d8f-979f-4c0dc422ae13",
   "metadata": {},
   "outputs": [
    {
     "name": "stdout",
     "output_type": "stream",
     "text": [
      "False\n"
     ]
    }
   ],
   "source": [
    "str2 = \"-23.899\"\n",
    "result = str2.isnumeric()\n",
    "print(result)"
   ]
  },
  {
   "cell_type": "markdown",
   "id": "e6d50f95-c262-4d74-85d9-d44a6694367e",
   "metadata": {},
   "source": [
    "#### 20) isprintable()"
   ]
  },
  {
   "cell_type": "code",
   "execution_count": 211,
   "id": "606784a3-08db-45cc-ac84-a14a91926421",
   "metadata": {},
   "outputs": [
    {
     "name": "stdout",
     "output_type": "stream",
     "text": [
      "True\n"
     ]
    }
   ],
   "source": [
    "str1 = \"What is your age?\"\n",
    "result = str1.isprintable()\n",
    "print(result)"
   ]
  },
  {
   "cell_type": "code",
   "execution_count": 215,
   "id": "ef14627c-2862-462b-81cd-b0f91652e64d",
   "metadata": {},
   "outputs": [
    {
     "name": "stdout",
     "output_type": "stream",
     "text": [
      "False\n"
     ]
    }
   ],
   "source": [
    "str2 = \"Hi! \\n\"\n",
    "result = str2.isprintable()\n",
    "print(result)"
   ]
  },
  {
   "cell_type": "markdown",
   "id": "25a01a4a-6b4b-4817-894e-f7c6f93c11f4",
   "metadata": {},
   "source": [
    "#### 21) isspace()"
   ]
  },
  {
   "cell_type": "code",
   "execution_count": 218,
   "id": "5ed6672c-4b97-4952-b048-a64f3cc2980c",
   "metadata": {},
   "outputs": [
    {
     "name": "stdout",
     "output_type": "stream",
     "text": [
      "True\n"
     ]
    }
   ],
   "source": [
    "str1 = \"     \"\n",
    "result = str1.isspace()\n",
    "print(result)"
   ]
  },
  {
   "cell_type": "code",
   "execution_count": 220,
   "id": "0a653bba-159c-4100-a7f7-21d0f19173a9",
   "metadata": {},
   "outputs": [
    {
     "name": "stdout",
     "output_type": "stream",
     "text": [
      "False\n"
     ]
    }
   ],
   "source": [
    "str2 = \"     $s       \"\n",
    "result = str2.isspace()\n",
    "print(result)"
   ]
  },
  {
   "cell_type": "markdown",
   "id": "388fb2be-7ef7-4630-9dae-9ea480d00464",
   "metadata": {},
   "source": [
    "#### 22) istitle()"
   ]
  },
  {
   "cell_type": "code",
   "execution_count": 233,
   "id": "8a2d3fe9-29a6-41f0-a909-4ee7faa6ae26",
   "metadata": {},
   "outputs": [
    {
     "name": "stdout",
     "output_type": "stream",
     "text": [
      "True\n"
     ]
    }
   ],
   "source": [
    "str1 = \"Red Apple\"\n",
    "result = str1.istitle()\n",
    "print(result)"
   ]
  },
  {
   "cell_type": "code",
   "execution_count": 237,
   "id": "0d37a968-2145-4d13-aa01-dc974089bf80",
   "metadata": {},
   "outputs": [
    {
     "name": "stdout",
     "output_type": "stream",
     "text": [
      "False\n"
     ]
    }
   ],
   "source": [
    "str2 = \"No parameTErs.\"\n",
    "result = str2.istitle()\n",
    "print(result)"
   ]
  },
  {
   "cell_type": "markdown",
   "id": "33cd64fd-8fb5-4e62-9ff7-e42f2b6441bb",
   "metadata": {},
   "source": [
    "#### 23) isupper()"
   ]
  },
  {
   "cell_type": "code",
   "execution_count": 242,
   "id": "da6eaeed-2f10-4f85-87c2-8c2e955820b3",
   "metadata": {},
   "outputs": [
    {
     "name": "stdout",
     "output_type": "stream",
     "text": [
      "False\n"
     ]
    }
   ],
   "source": [
    "str1 = \"Python Is Fun.\"\n",
    "result = str1.isupper()\n",
    "print(result)"
   ]
  },
  {
   "cell_type": "code",
   "execution_count": 244,
   "id": "cdd739a9-525d-46ba-ae44-63c1822b1933",
   "metadata": {},
   "outputs": [
    {
     "name": "stdout",
     "output_type": "stream",
     "text": [
      "True\n"
     ]
    }
   ],
   "source": [
    "str2 = \"THE RESULT\"\n",
    "result = str2.isupper()\n",
    "print(result)"
   ]
  },
  {
   "cell_type": "markdown",
   "id": "43c1040b-f935-4b38-be2d-c3ce740d9b40",
   "metadata": {},
   "source": [
    "#### 24) join()"
   ]
  },
  {
   "cell_type": "code",
   "execution_count": 247,
   "id": "b2f1d91e-e5ff-4971-bfff-6e4d758ecc50",
   "metadata": {},
   "outputs": [
    {
     "name": "stdout",
     "output_type": "stream",
     "text": [
      "apple, banana, cherry\n"
     ]
    }
   ],
   "source": [
    "fruits = (\"apple\", \"banana\", \"cherry\")\n",
    "fruit_list = \", \".join(fruits)\n",
    "print(fruit_list)"
   ]
  },
  {
   "cell_type": "code",
   "execution_count": 249,
   "id": "a625ea2c-5e4d-491e-829b-19bfb50732e9",
   "metadata": {},
   "outputs": [
    {
     "name": "stdout",
     "output_type": "stream",
     "text": [
      "Method\n"
     ]
    }
   ],
   "source": [
    "letters = ['M', 'e', 't', 'h', 'o', 'd']\n",
    "joined_word = \"\".join(letters)\n",
    "print(joined_word)"
   ]
  },
  {
   "cell_type": "markdown",
   "id": "58f1ed6e-3db4-472c-9b1b-2d31c9d32cba",
   "metadata": {},
   "source": [
    "#### 25) ljust()"
   ]
  },
  {
   "cell_type": "code",
   "execution_count": 254,
   "id": "cc45c688-fba6-46d9-8284-8d642a76e21a",
   "metadata": {},
   "outputs": [
    {
     "name": "stdout",
     "output_type": "stream",
     "text": [
      "Aishwarya------\n"
     ]
    }
   ],
   "source": [
    "str1 = \"Aishwarya\"\n",
    "result = str1.ljust(15, '-')\n",
    "print(result)"
   ]
  },
  {
   "cell_type": "code",
   "execution_count": 258,
   "id": "6ba5bb13-dd51-49f7-878a-01a33da31d90",
   "metadata": {},
   "outputs": [
    {
     "name": "stdout",
     "output_type": "stream",
     "text": [
      "Wanjari_\n"
     ]
    }
   ],
   "source": [
    "str2 = \"Wanjari\"\n",
    "result = str2.ljust(8,'_')\n",
    "print(result)"
   ]
  },
  {
   "cell_type": "markdown",
   "id": "b2c94d63-0e56-467a-b8c9-5e2e234ab89e",
   "metadata": {},
   "source": [
    "#### 26) lower()"
   ]
  },
  {
   "cell_type": "code",
   "execution_count": 261,
   "id": "fad56f23-1eac-4819-9183-ef85196c3203",
   "metadata": {},
   "outputs": [
    {
     "name": "stdout",
     "output_type": "stream",
     "text": [
      "python is fun.\n"
     ]
    }
   ],
   "source": [
    "str1 = \"Python Is Fun.\"\n",
    "result = str1.lower()\n",
    "print(result)"
   ]
  },
  {
   "cell_type": "code",
   "execution_count": 274,
   "id": "dbea9a37-d5f9-43b6-a2c3-2d7445b9e2a5",
   "metadata": {},
   "outputs": [
    {
     "name": "stdout",
     "output_type": "stream",
     "text": [
      "parameter\n"
     ]
    }
   ],
   "source": [
    "str2 = \"pArAmETeR\"\n",
    "result = str2.lower()\n",
    "print(result)"
   ]
  },
  {
   "cell_type": "markdown",
   "id": "ac0004a8-8af2-49fb-9ba9-846440ef7062",
   "metadata": {},
   "source": [
    "#### 27) lstrip()"
   ]
  },
  {
   "cell_type": "code",
   "execution_count": 270,
   "id": "9be64390-8664-49bf-bba7-23600fa8b024",
   "metadata": {},
   "outputs": [
    {
     "name": "stdout",
     "output_type": "stream",
     "text": [
      "python\n"
     ]
    }
   ],
   "source": [
    "str1 = \"       python\"\n",
    "result = str1.lstrip()\n",
    "print(result)"
   ]
  },
  {
   "cell_type": "code",
   "execution_count": 276,
   "id": "292a4fcd-5ac3-4392-bd7d-d98440bf7aef",
   "metadata": {},
   "outputs": [
    {
     "name": "stdout",
     "output_type": "stream",
     "text": [
      "PROGRAMMING\n"
     ]
    }
   ],
   "source": [
    "str2 = \"...--PROGRAMMING\"\n",
    "result = str2.lstrip(\".-\")\n",
    "print(result)"
   ]
  },
  {
   "cell_type": "markdown",
   "id": "777e3782-35f9-47af-a9d1-8b304ce2b4e3",
   "metadata": {},
   "source": [
    "#### 28) maketrans()"
   ]
  },
  {
   "cell_type": "code",
   "execution_count": 283,
   "id": "b175a8b8-2f87-4284-9cb3-fad2c6620a7e",
   "metadata": {},
   "outputs": [
    {
     "name": "stdout",
     "output_type": "stream",
     "text": [
      "123 123\n"
     ]
    }
   ],
   "source": [
    "translated_words = str.maketrans('abc', '123')\n",
    "text = \"abc 123\"\n",
    "translated_text = text.translate(translated_words)\n",
    "print(translated_text)"
   ]
  },
  {
   "cell_type": "code",
   "execution_count": 289,
   "id": "650fb2f4-04c5-4f2d-a8b8-10a61a336358",
   "metadata": {},
   "outputs": [
    {
     "name": "stdout",
     "output_type": "stream",
     "text": [
      "XYZ XYZ XYZ\n"
     ]
    }
   ],
   "source": [
    "translated_str = str.maketrans('xyz', 'XYZ')\n",
    "text = \"xYz Xyz xyz\"\n",
    "translated_text = text.translate(translated_str)\n",
    "print(translated_text)"
   ]
  },
  {
   "cell_type": "markdown",
   "id": "1b223065-9d0b-4827-8a80-f5da17827588",
   "metadata": {},
   "source": [
    "#### 29) partition()"
   ]
  },
  {
   "cell_type": "code",
   "execution_count": 292,
   "id": "537e30aa-4626-4a49-b016-ff62b8a29cbf",
   "metadata": {},
   "outputs": [
    {
     "name": "stdout",
     "output_type": "stream",
     "text": [
      "('A function can ', 'return', ' data as a result.')\n"
     ]
    }
   ],
   "source": [
    "str1 = \"A function can return data as a result.\"\n",
    "result = str1.partition(\"return\")\n",
    "print(result)"
   ]
  },
  {
   "cell_type": "code",
   "execution_count": 294,
   "id": "a3e65461-c40c-41fc-babe-0a94aed82aea",
   "metadata": {},
   "outputs": [
    {
     "name": "stdout",
     "output_type": "stream",
     "text": [
      "('Arrays are used to store ', 'multiple values', ' in one single variable')\n"
     ]
    }
   ],
   "source": [
    "str2 = \"Arrays are used to store multiple values in one single variable\"\n",
    "result = str2.partition(\"multiple values\")\n",
    "print(result)"
   ]
  },
  {
   "cell_type": "markdown",
   "id": "0021217a-8de7-4e92-a024-b65b6235a7e9",
   "metadata": {},
   "source": [
    "#### 30) replace()"
   ]
  },
  {
   "cell_type": "code",
   "execution_count": 297,
   "id": "93c10404-7fc7-4e1f-adb1-68445f4d03ec",
   "metadata": {},
   "outputs": [
    {
     "name": "stdout",
     "output_type": "stream",
     "text": [
      "My favorite colour is pink.\n"
     ]
    }
   ],
   "source": [
    "str1 = \"My favorite colour is blue.\"\n",
    "result = str1.replace(\"blue\", \"pink\")\n",
    "print(result)"
   ]
  },
  {
   "cell_type": "code",
   "execution_count": 299,
   "id": "d2272ede-a1a9-44e5-a28b-4cc7f969c301",
   "metadata": {},
   "outputs": [
    {
     "name": "stdout",
     "output_type": "stream",
     "text": [
      "0range c0l0ur\n"
     ]
    }
   ],
   "source": [
    "str2 = \"orange colour\"\n",
    "result = str2.replace(\"o\", \"0\")\n",
    "print(result)"
   ]
  },
  {
   "cell_type": "markdown",
   "id": "67dd818d-01fa-4549-b0d1-ba7cc25765c2",
   "metadata": {},
   "source": [
    "#### 31) rfind()"
   ]
  },
  {
   "cell_type": "code",
   "execution_count": 303,
   "id": "515e2a69-0b4e-484b-8345-69edfe84f1c1",
   "metadata": {},
   "outputs": [
    {
     "name": "stdout",
     "output_type": "stream",
     "text": [
      "15\n"
     ]
    }
   ],
   "source": [
    "str1 = \"An iterator is an object that contains a countable number of values.\"\n",
    "result = str1.rfind(\"an\")\n",
    "print(result)"
   ]
  },
  {
   "cell_type": "code",
   "execution_count": 305,
   "id": "16bf24c4-3346-4922-b239-22439c496d74",
   "metadata": {},
   "outputs": [
    {
     "name": "stdout",
     "output_type": "stream",
     "text": [
      "-1\n"
     ]
    }
   ],
   "source": [
    "str2 = \"XML stands for eXtensible Markup Language.\"\n",
    "result = str2.rfind(\"from\")\n",
    "print(result)"
   ]
  },
  {
   "cell_type": "markdown",
   "id": "1e6b6e9d-b7ee-4f57-b157-772a85a6abcf",
   "metadata": {},
   "source": [
    "#### 32) rindex()"
   ]
  },
  {
   "cell_type": "code",
   "execution_count": 308,
   "id": "d0d8edce-1ab1-4ea9-9509-9542d8d612ce",
   "metadata": {},
   "outputs": [
    {
     "name": "stdout",
     "output_type": "stream",
     "text": [
      "18\n"
     ]
    }
   ],
   "source": [
    "str1 = \"You can display a string literal with the print() function\"\n",
    "result = str1.rindex(\"string\")\n",
    "print(result)"
   ]
  },
  {
   "cell_type": "code",
   "execution_count": 312,
   "id": "2cc721c5-dd93-4015-a762-6a0f1caa181b",
   "metadata": {},
   "outputs": [
    {
     "name": "stdout",
     "output_type": "stream",
     "text": [
      "27\n"
     ]
    }
   ],
   "source": [
    "str2 = \"Strings in python are surrounded by either single quotation marks, or double quotation marks.\"\n",
    "result = str2.rindex(\"u\", 20, 30)\n",
    "print(result)"
   ]
  },
  {
   "cell_type": "markdown",
   "id": "ee4e6419-2b70-4db6-96cf-84e891807c71",
   "metadata": {},
   "source": [
    "#### 33) rjust()"
   ]
  },
  {
   "cell_type": "code",
   "execution_count": 317,
   "id": "50db61cf-9f35-4b9d-a98a-a6fb09cf0fb8",
   "metadata": {},
   "outputs": [
    {
     "name": "stdout",
     "output_type": "stream",
     "text": [
      "'     Hello'\n"
     ]
    }
   ],
   "source": [
    "str1 = \"Hello\"\n",
    "result = str1.rjust(10)\n",
    "print(f\"'{result}'\")"
   ]
  },
  {
   "cell_type": "code",
   "execution_count": 321,
   "id": "57a79a06-1e47-43c4-9bd5-0de4d58489e6",
   "metadata": {},
   "outputs": [
    {
     "name": "stdout",
     "output_type": "stream",
     "text": [
      "00042\n"
     ]
    }
   ],
   "source": [
    "str2 = \"42\"\n",
    "result = str2.rjust(5, '0')\n",
    "print(result)"
   ]
  },
  {
   "cell_type": "markdown",
   "id": "99053332-5974-4be1-8cbb-421b3dcd0b9c",
   "metadata": {},
   "source": [
    "#### 34) rpartition()"
   ]
  },
  {
   "cell_type": "code",
   "execution_count": 324,
   "id": "66c85c44-5d6f-4ef9-b900-f6359f1d9cdf",
   "metadata": {},
   "outputs": [
    {
     "name": "stdout",
     "output_type": "stream",
     "text": [
      "('I go to ', 'xyz', ' school.')\n"
     ]
    }
   ],
   "source": [
    "str1 = \"I go to xyz school.\"\n",
    "result = str1.rpartition(\"xyz\")\n",
    "print(result)"
   ]
  },
  {
   "cell_type": "code",
   "execution_count": 326,
   "id": "fc8287b5-324e-4486-a3a9-43bd975e03d1",
   "metadata": {},
   "outputs": [
    {
     "name": "stdout",
     "output_type": "stream",
     "text": [
      "('', '', 'I go to xyz school.')\n"
     ]
    }
   ],
   "source": [
    "str2 = \"I go to xyz school.\"\n",
    "result = str2.rpartition(\"abc\")\n",
    "print(result)"
   ]
  },
  {
   "cell_type": "markdown",
   "id": "a451f498-e6cb-4e40-a902-adb2f03713b3",
   "metadata": {},
   "source": [
    "#### 35) rsplit()"
   ]
  },
  {
   "cell_type": "code",
   "execution_count": 335,
   "id": "0a3dbcab-f468-414f-a516-a68af1122b87",
   "metadata": {},
   "outputs": [
    {
     "name": "stdout",
     "output_type": "stream",
     "text": [
      "['carrot', 'brinjal', 'potato', 'chilly']\n"
     ]
    }
   ],
   "source": [
    "str1 = \"carrot,brinjal,potato,chilly\"\n",
    "result = str1.rsplit(\",\")\n",
    "print(result)"
   ]
  },
  {
   "cell_type": "code",
   "execution_count": 339,
   "id": "3361d1d1-fc06-473f-87ef-de8090f0e246",
   "metadata": {},
   "outputs": [
    {
     "name": "stdout",
     "output_type": "stream",
     "text": [
      "['carrot,brinjal,potato', 'chilly']\n"
     ]
    }
   ],
   "source": [
    "str2 = \"carrot,brinjal,potato,chilly\"\n",
    "result = str2.rsplit(\",\",1)\n",
    "print(result)"
   ]
  },
  {
   "cell_type": "markdown",
   "id": "2b77ad1c-69c6-47ca-a23d-49c39791caeb",
   "metadata": {},
   "source": [
    "#### 36) rstrip()"
   ]
  },
  {
   "cell_type": "code",
   "execution_count": 352,
   "id": "c6cea2a9-7763-4ead-a99e-156518a0ff0e",
   "metadata": {},
   "outputs": [
    {
     "name": "stdout",
     "output_type": "stream",
     "text": [
      "'         error'\n"
     ]
    }
   ],
   "source": [
    "str1 = \"         error         \"\n",
    "result = str1.rstrip()\n",
    "print(f\"'{result}'\")"
   ]
  },
  {
   "cell_type": "code",
   "execution_count": 356,
   "id": "d23b7105-ec20-4d46-82c2-a22db2e1d0b8",
   "metadata": {},
   "outputs": [
    {
     "name": "stdout",
     "output_type": "stream",
     "text": [
      ",,,,--solved\n"
     ]
    }
   ],
   "source": [
    "str2 = \",,,,--solved---,,,,\"\n",
    "result = str2.rstrip(\",-\")\n",
    "print(result)"
   ]
  },
  {
   "cell_type": "markdown",
   "id": "337cb905-578e-4eef-9247-3db1db53da08",
   "metadata": {},
   "source": [
    "#### 37) split()"
   ]
  },
  {
   "cell_type": "code",
   "execution_count": 361,
   "id": "4439b215-d04e-439d-825a-da1a0ade4e06",
   "metadata": {},
   "outputs": [
    {
     "name": "stdout",
     "output_type": "stream",
     "text": [
      "['Jupyter', 'Notebooks', 'are', 'great', 'for', 'data', 'analysis']\n"
     ]
    }
   ],
   "source": [
    "str1 = \"Jupyter Notebooks are great for data analysis\"\n",
    "result = str1.split()\n",
    "print(result)"
   ]
  },
  {
   "cell_type": "code",
   "execution_count": 365,
   "id": "53fdafdf-8091-4366-9655-28ede2d476ef",
   "metadata": {},
   "outputs": [
    {
     "name": "stdout",
     "output_type": "stream",
     "text": [
      "['Python', 'is', 'a versatile and powerful programming language']\n"
     ]
    }
   ],
   "source": [
    "str2 = \"Python is a versatile and powerful programming language\"\n",
    "result = str2.split(\" \", 2)\n",
    "print(result)"
   ]
  },
  {
   "cell_type": "markdown",
   "id": "5dc25ff0-6f49-4b67-a057-c1b25af37b41",
   "metadata": {},
   "source": [
    "#### 38) splitlines()"
   ]
  },
  {
   "cell_type": "code",
   "execution_count": 368,
   "id": "0185b29b-6ac3-4b6c-a58f-fea6004b963d",
   "metadata": {},
   "outputs": [
    {
     "name": "stdout",
     "output_type": "stream",
     "text": [
      "['Python is fun.', 'Enjoy coding!']\n"
     ]
    }
   ],
   "source": [
    "str1 = \"Python is fun.\\nEnjoy coding!\"\n",
    "result = str1.splitlines()\n",
    "print(result)"
   ]
  },
  {
   "cell_type": "code",
   "execution_count": 376,
   "id": "260ed40c-f8cb-4871-8f94-8447fdd4b866",
   "metadata": {},
   "outputs": [
    {
     "name": "stdout",
     "output_type": "stream",
     "text": [
      "['apple\\n', 'banana\\r', 'cherry']\n"
     ]
    }
   ],
   "source": [
    "str2 = \"apple\\nbanana\\rcherry\"\n",
    "result = str2.splitlines(True)\n",
    "print(result)"
   ]
  },
  {
   "cell_type": "markdown",
   "id": "9278c7e1-267b-4836-80c6-8cb11b5b1a12",
   "metadata": {},
   "source": [
    "#### 39) startswith()"
   ]
  },
  {
   "cell_type": "code",
   "execution_count": 381,
   "id": "56521447-c6e0-40aa-a8e6-9ca2f1a40722",
   "metadata": {},
   "outputs": [
    {
     "name": "stdout",
     "output_type": "stream",
     "text": [
      "True\n"
     ]
    }
   ],
   "source": [
    "str1 = \"Python has a simple syntax similar to the English language.\"\n",
    "result = str1.startswith(\"Python\")\n",
    "print(result)"
   ]
  },
  {
   "cell_type": "code",
   "execution_count": 383,
   "id": "8166191b-ec7e-4ad6-8129-145db9e9ee6a",
   "metadata": {},
   "outputs": [
    {
     "name": "stdout",
     "output_type": "stream",
     "text": [
      "False\n"
     ]
    }
   ],
   "source": [
    "str2 = \"Python works on different platforms\"\n",
    "result = str2.startswith(\"Java\")\n",
    "print(result)"
   ]
  },
  {
   "cell_type": "markdown",
   "id": "0f6106be-d5a3-47dd-bf0b-4a90e512f70e",
   "metadata": {},
   "source": [
    "#### 40) strip()"
   ]
  },
  {
   "cell_type": "code",
   "execution_count": 390,
   "id": "8fdae20d-528d-4722-a20d-9082f5ec9725",
   "metadata": {},
   "outputs": [
    {
     "name": "stdout",
     "output_type": "stream",
     "text": [
      "'Python'\n"
     ]
    }
   ],
   "source": [
    "str1 = \"      Python      \"\n",
    "result = str1.strip()\n",
    "print(f\"'{result}'\")"
   ]
  },
  {
   "cell_type": "code",
   "execution_count": 388,
   "id": "fe1c89d6-037c-42d1-aa30-ed7958d5a81f",
   "metadata": {},
   "outputs": [
    {
     "name": "stdout",
     "output_type": "stream",
     "text": [
      "Tutorial\n"
     ]
    }
   ],
   "source": [
    "str2 = \";;;$$jkTutorialjk;;;$$\"\n",
    "result = str2.strip(\";$jk\")\n",
    "print(result)"
   ]
  },
  {
   "cell_type": "markdown",
   "id": "686e9b16-2383-48b8-a0d3-82736610bbb6",
   "metadata": {},
   "source": [
    "#### 41) swapcase()"
   ]
  },
  {
   "cell_type": "code",
   "execution_count": 393,
   "id": "d430924a-3f5c-479a-8f8d-cf316fff5b6e",
   "metadata": {},
   "outputs": [
    {
     "name": "stdout",
     "output_type": "stream",
     "text": [
      "A FRIEND in nEED IS A friend InDeEd\n"
     ]
    }
   ],
   "source": [
    "str1 = \"a friend IN Need is a FRIEND iNdEeD\"\n",
    "result = str1.swapcase()\n",
    "print(result)"
   ]
  },
  {
   "cell_type": "code",
   "execution_count": 395,
   "id": "bc154a52-92c8-4837-97d3-d1c5898ac66b",
   "metadata": {},
   "outputs": [
    {
     "name": "stdout",
     "output_type": "stream",
     "text": [
      "stAY PoSiTIVE\n"
     ]
    }
   ],
   "source": [
    "str2 = \"STay pOsItive\"\n",
    "result = str2.swapcase()\n",
    "print(result)"
   ]
  },
  {
   "cell_type": "markdown",
   "id": "0036f3b0-44c7-4ee3-8e54-7fead98a9f91",
   "metadata": {},
   "source": [
    "#### 42) title()"
   ]
  },
  {
   "cell_type": "code",
   "execution_count": 398,
   "id": "a6fb03bf-4e3f-4305-a372-e4d9b3a780a9",
   "metadata": {},
   "outputs": [
    {
     "name": "stdout",
     "output_type": "stream",
     "text": [
      "Json Is A Syntax For Storing And Exchanging Data.\n"
     ]
    }
   ],
   "source": [
    "str1 = \"JSON is a syntax for storing and exchanging data.\"\n",
    "result = str1.title()\n",
    "print(result)"
   ]
  },
  {
   "cell_type": "code",
   "execution_count": 402,
   "id": "c3dc0da6-af59-48a8-bd10-0a757b7f4698",
   "metadata": {},
   "outputs": [
    {
     "name": "stdout",
     "output_type": "stream",
     "text": [
      "Priti Came 3Rd In The Race.\n"
     ]
    }
   ],
   "source": [
    "str2 = \"Priti came 3rd in the race.\"\n",
    "result = str2.title()\n",
    "print(result)"
   ]
  },
  {
   "cell_type": "markdown",
   "id": "0094ae8c-b0fb-47a9-a7f3-dba914a13461",
   "metadata": {},
   "source": [
    "#### 43) translate()"
   ]
  },
  {
   "cell_type": "code",
   "execution_count": 407,
   "id": "0cceb81d-0a8c-481b-a139-aa08e925610f",
   "metadata": {},
   "outputs": [
    {
     "name": "stdout",
     "output_type": "stream",
     "text": [
      "app10\n"
     ]
    }
   ],
   "source": [
    "translated_words = str.maketrans(\"le\", \"10\")\n",
    "text = \"apple\"\n",
    "translated_text = text.translate(translated_words)\n",
    "print(translated_text)"
   ]
  },
  {
   "cell_type": "code",
   "execution_count": 411,
   "id": "99ef29c3-cb79-4e4f-b5f9-913a345901e8",
   "metadata": {},
   "outputs": [
    {
     "name": "stdout",
     "output_type": "stream",
     "text": [
      "csl\n"
     ]
    }
   ],
   "source": [
    "translated_str = str.maketrans(\"\", \"\", \"aeiou\")\n",
    "text = \"casual\"\n",
    "translated_text = text.translate(translated_str)\n",
    "print(translated_text)"
   ]
  },
  {
   "cell_type": "markdown",
   "id": "93b23418-9b28-49f6-bd18-44edd9b1b4bb",
   "metadata": {},
   "source": [
    "#### 44) upper()"
   ]
  },
  {
   "cell_type": "code",
   "execution_count": 414,
   "id": "e44387a7-a5ef-40af-9ea7-a2f5806fab1b",
   "metadata": {},
   "outputs": [
    {
     "name": "stdout",
     "output_type": "stream",
     "text": [
      "I AM A GIRL.\n"
     ]
    }
   ],
   "source": [
    "str1 = \"i am a girl.\"\n",
    "result = str1.upper()\n",
    "print(result)"
   ]
  },
  {
   "cell_type": "code",
   "execution_count": 416,
   "id": "b6909e70-1cf6-40b0-8365-5cd9d13072b3",
   "metadata": {},
   "outputs": [
    {
     "name": "stdout",
     "output_type": "stream",
     "text": [
      "I HAVE 2 DOGS.\n"
     ]
    }
   ],
   "source": [
    "str2 = \"I have 2 dogs.\"\n",
    "result = str2.upper()\n",
    "print(result)"
   ]
  },
  {
   "cell_type": "markdown",
   "id": "a6d9250d-bf53-471d-b03a-dde7d3a987f6",
   "metadata": {},
   "source": [
    "#### 45) zfill()"
   ]
  },
  {
   "cell_type": "code",
   "execution_count": 421,
   "id": "284d7262-5a0b-42d7-810e-69ff3e2dc0ce",
   "metadata": {},
   "outputs": [
    {
     "name": "stdout",
     "output_type": "stream",
     "text": [
      "-000005678\n"
     ]
    }
   ],
   "source": [
    "str1 = \"-5678\"\n",
    "result = str1.zfill(10)\n",
    "print(result)"
   ]
  },
  {
   "cell_type": "code",
   "execution_count": 425,
   "id": "ac8e9932-4549-4f5b-864b-e474c9700f37",
   "metadata": {},
   "outputs": [
    {
     "name": "stdout",
     "output_type": "stream",
     "text": [
      "00grapes\n"
     ]
    }
   ],
   "source": [
    "str2 = \"grapes\"\n",
    "result = str2.zfill(8)\n",
    "print(result)"
   ]
  },
  {
   "cell_type": "code",
   "execution_count": null,
   "id": "71c5a102-95db-41b7-8328-f32923fb4019",
   "metadata": {},
   "outputs": [],
   "source": []
  }
 ],
 "metadata": {
  "kernelspec": {
   "display_name": "Python 3 (ipykernel)",
   "language": "python",
   "name": "python3"
  },
  "language_info": {
   "codemirror_mode": {
    "name": "ipython",
    "version": 3
   },
   "file_extension": ".py",
   "mimetype": "text/x-python",
   "name": "python",
   "nbconvert_exporter": "python",
   "pygments_lexer": "ipython3",
   "version": "3.12.4"
  }
 },
 "nbformat": 4,
 "nbformat_minor": 5
}
